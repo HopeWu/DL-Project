{
  "cells": [
    {
      "cell_type": "markdown",
      "metadata": {
        "id": "tVm9IYYlhpvN"
      },
      "source": [
        "# Plan\n",
        "Five models. Each one is hypertuned with respect to learning rate, unit number, optimizer, batch size, epoch, data normalization, dropout?, dropout rate, activation choice, \n",
        "\n",
        "The four models are \n",
        "- 1 mlp model\n",
        "- 1 vgg16 model\n",
        "- 1 yamnet\n",
        "- 1 LSTM\n",
        "- a hybrid of yamnet and LSTM\n",
        "\n",
        "The feature used\n",
        "- MFCCs for mlp\n",
        "- Mel Spectrogram for vgg16\n",
        "- raw audio waves for sound models\n",
        "\n",
        "Tuned hyper parameters\n",
        "- learning rate\n",
        "- unit number\n",
        "- structure, e.g. whether to contain one more layer, whether to contain dropout, whether to do data normalization\n",
        "- dropout rate\n",
        "- activation choice\n",
        "- batch size\n",
        "- epochs"
      ]
    },
    {
      "cell_type": "code",
      "execution_count": 1,
      "metadata": {
        "colab": {
          "base_uri": "https://localhost:8080/"
        },
        "id": "PdxGIkk5uSNy",
        "outputId": "be00d425-ef54-4326-cc97-63774699f3f4"
      },
      "outputs": [
        {
          "output_type": "stream",
          "name": "stdout",
          "text": [
            "\u001b[?25l     \u001b[90m━━━━━━━━━━━━━━━━━━━━━━━━━━━━━━━━━━━━━━━━\u001b[0m \u001b[32m0.0/176.1 kB\u001b[0m \u001b[31m?\u001b[0m eta \u001b[36m-:--:--\u001b[0m\r\u001b[2K     \u001b[91m━━━━━━━━━━━━━━━━━━━━━━━━━━━━━━━━━━━━━\u001b[0m\u001b[91m╸\u001b[0m \u001b[32m174.1/176.1 kB\u001b[0m \u001b[31m14.3 MB/s\u001b[0m eta \u001b[36m0:00:01\u001b[0m\r\u001b[2K     \u001b[90m━━━━━━━━━━━━━━━━━━━━━━━━━━━━━━━━━━━━━━━\u001b[0m \u001b[32m176.1/176.1 kB\u001b[0m \u001b[31m4.1 MB/s\u001b[0m eta \u001b[36m0:00:00\u001b[0m\n",
            "\u001b[?25hMounted at /content/drive\n"
          ]
        }
      ],
      "source": [
        "!pip install keras-tuner -q\n",
        "import os\n",
        "import pandas as pd\n",
        "import numpy as np\n",
        "import tensorflow_datasets as tfds\n",
        "import tensorflow as tf\n",
        "from tensorflow import keras\n",
        "import keras_tuner\n",
        "from tensorflow.keras import layers\n",
        "import librosa\n",
        "\n",
        "from tensorflow.keras.utils import to_categorical, plot_model\n",
        "\n",
        "from tensorflow.keras.models import Sequential\n",
        "from tensorflow.keras.layers import Dense,Dropout,Activation,Flatten, Conv2D,MaxPooling2D\n",
        "from tensorflow.keras.optimizers import Adam\n",
        "\n",
        "from sklearn import metrics\n",
        "\n",
        "from tensorflow.keras.callbacks import EarlyStopping\n",
        "from sklearn.preprocessing import StandardScaler\n",
        "from datetime import datetime \n",
        "from sklearn.model_selection import train_test_split\n",
        "\n",
        "# for manipulate the mel spectrographs\n",
        "from PIL import Image\n",
        "\n",
        "import tensorflow_hub as hub\n",
        "\n",
        "from google.colab import drive\n",
        "drive.mount('/content/drive')\n"
      ]
    },
    {
      "cell_type": "markdown",
      "metadata": {
        "id": "aZBt4Fu8v8UH"
      },
      "source": [
        "## Load Data"
      ]
    },
    {
      "cell_type": "markdown",
      "metadata": {
        "id": "4lxMhKTSTi0n"
      },
      "source": [
        "## Data Exploration"
      ]
    },
    {
      "cell_type": "code",
      "execution_count": 2,
      "metadata": {
        "id": "WSqqzodnQbF-"
      },
      "outputs": [],
      "source": [
        "# the root of the data\n",
        "dataRoot = \"drive/MyDrive/DeepLearningProject/datasets/Data/\""
      ]
    },
    {
      "cell_type": "markdown",
      "metadata": {
        "id": "CgBvZmErm1B2"
      },
      "source": [
        "# YAMNet"
      ]
    },
    {
      "cell_type": "markdown",
      "metadata": {
        "id": "PichRE4tQYbC"
      },
      "source": [
        "### Load the audio wave files"
      ]
    },
    {
      "cell_type": "code",
      "execution_count": 3,
      "metadata": {
        "id": "Ig9H21RmqQdT",
        "colab": {
          "base_uri": "https://localhost:8080/",
          "height": 35
        },
        "outputId": "3da61a06-d0ae-4237-f1e1-c7b409f85e5b"
      },
      "outputs": [
        {
          "output_type": "execute_result",
          "data": {
            "text/plain": [
              "'blues'"
            ],
            "application/vnd.google.colaboratory.intrinsic+json": {
              "type": "string"
            }
          },
          "metadata": {},
          "execution_count": 3
        }
      ],
      "source": [
        "'''\n",
        "@fileName - file name of a music\n",
        "return - the label\n",
        "e.g. label = extract_label(\"blues0000.png\")\n",
        "'''\n",
        "def extract_audio_label(fileName):\n",
        "  import re\n",
        "\n",
        "  match = re.search(r'([a-zA-Z ]+).(\\d+)', fileName)\n",
        "\n",
        "  if match:\n",
        "      # text = match.group(1).strip()\n",
        "      text = match.group(1)\n",
        "  else:\n",
        "    raise ValueError(\"Failed to extracte labels from Music file name, \"+fileName)\n",
        "\n",
        "  return text\n",
        "extract_audio_label(\"blues0000.png\")"
      ]
    },
    {
      "cell_type": "code",
      "execution_count": 4,
      "metadata": {
        "id": "NLzlZGLSSxoc",
        "colab": {
          "base_uri": "https://localhost:8080/"
        },
        "outputId": "0bc0fbc5-7560-448c-aa73-f24b00ec305d"
      },
      "outputs": [
        {
          "output_type": "stream",
          "name": "stderr",
          "text": [
            "<ipython-input-4-5f1e593bd6d8>:27: UserWarning: PySoundFile failed. Trying audioread instead.\n",
            "  data,sample_rate=librosa.load(musicPath, sr=16000)\n",
            "/usr/local/lib/python3.10/dist-packages/librosa/core/audio.py:184: FutureWarning: librosa.core.audio.__audioread_load\n",
            "\tDeprecated as of librosa version 0.10.0.\n",
            "\tIt will be removed in librosa version 1.0.\n",
            "  y, sr_native = __audioread_load(path, offset, duration, dtype)\n"
          ]
        },
        {
          "output_type": "stream",
          "name": "stdout",
          "text": [
            "Error with  jazz.00054.wav   \n"
          ]
        },
        {
          "output_type": "stream",
          "name": "stderr",
          "text": [
            "<ipython-input-4-5f1e593bd6d8>:36: VisibleDeprecationWarning: Creating an ndarray from ragged nested sequences (which is a list-or-tuple of lists-or-tuples-or ndarrays with different lengths or shapes) is deprecated. If you meant to do this, you must specify 'dtype=object' when creating the ndarray.\n",
            "  waves = np.array(waves)\n"
          ]
        }
      ],
      "source": [
        "'''\n",
        "Load audio wave files\n",
        "'''\n",
        "\n",
        "# Define the root directory\n",
        "root_dir = os.path.join(dataRoot, \"genres_original\")\n",
        "\n",
        "# Load the images and labels\n",
        "waves = []\n",
        "labels = []\n",
        "\n",
        "# Iterate through all directories under the root directory\n",
        "for dirpath, dirnames, filenames in os.walk(root_dir):\n",
        "    # dirpath is the path of the current directory\n",
        "    # dirnames is a list of subdirectories in the current directory\n",
        "    # filenames is a list of files in the current directory\n",
        "    \n",
        "    # Do something with the directory path, such as print it\n",
        "    \n",
        "    # print(dirnames)\n",
        "    \n",
        "    for fname in filenames:\n",
        "      # deal with the music\n",
        "      musicPath = os.path.join(dirpath,fname)\n",
        "      # when have an exception, do not use this sample\n",
        "      try:\n",
        "        data,sample_rate=librosa.load(musicPath, sr=16000)\n",
        "        waves.append(data)\n",
        "        # get its label\n",
        "        labels.append(extract_audio_label(fname))\n",
        "      except Exception as e:\n",
        "        print(\"Error with \",fname, \" \",e)\n",
        "    \n",
        "\n",
        "# Convert the lists to NumPy arrays\n",
        "waves = np.array(waves)\n",
        "labels = np.array(labels)"
      ]
    },
    {
      "cell_type": "code",
      "execution_count": 5,
      "metadata": {
        "id": "_--Ph-LlpK_Z",
        "colab": {
          "base_uri": "https://localhost:8080/"
        },
        "outputId": "b522f593-3616-4feb-bd44-a76e1bcf2888"
      },
      "outputs": [
        {
          "output_type": "execute_result",
          "data": {
            "text/plain": [
              "(999,)"
            ]
          },
          "metadata": {},
          "execution_count": 5
        }
      ],
      "source": [
        "labels.shape"
      ]
    },
    {
      "cell_type": "code",
      "execution_count": 6,
      "metadata": {
        "id": "P1_bfMfYo0Sx",
        "colab": {
          "base_uri": "https://localhost:8080/"
        },
        "outputId": "d7e00984-61ab-44dc-f193-c8509164b04f"
      },
      "outputs": [
        {
          "output_type": "execute_result",
          "data": {
            "text/plain": [
              "(999,)"
            ]
          },
          "metadata": {},
          "execution_count": 6
        }
      ],
      "source": [
        "waves.shape"
      ]
    },
    {
      "cell_type": "code",
      "execution_count": 7,
      "metadata": {
        "id": "G61o_Pr3uNqK",
        "colab": {
          "base_uri": "https://localhost:8080/"
        },
        "outputId": "a610c3ca-206e-475a-c52a-39714cf1d0fb"
      },
      "outputs": [
        {
          "output_type": "execute_result",
          "data": {
            "text/plain": [
              "(480214,)"
            ]
          },
          "metadata": {},
          "execution_count": 7
        }
      ],
      "source": [
        "waves[0].shape"
      ]
    },
    {
      "cell_type": "markdown",
      "metadata": {
        "id": "ADb8uz4422zx"
      },
      "source": [
        "## Make a 10 times larger dataset by extracting 10 3-second sub waves from the original 30-second wave"
      ]
    },
    {
      "cell_type": "code",
      "execution_count": 8,
      "metadata": {
        "id": "Z9_xlqXA22z6"
      },
      "outputs": [],
      "source": [
        "def Split(audio, sr=16000):\n",
        "  # Get number of samples for 2 seconds; replace 2 by any number\n",
        "  buffer = 3 * sr\n",
        "\n",
        "  samples_total = len(audio)\n",
        "  samples_wrote = 0\n",
        "\n",
        "  splits = []\n",
        "  while samples_wrote < samples_total:\n",
        "\n",
        "      #check if the buffer is not exceeding total samples \n",
        "      if buffer > (samples_total - samples_wrote):\n",
        "          buffer = samples_total - samples_wrote\n",
        "\n",
        "      block = audio[samples_wrote : (samples_wrote + buffer)]\n",
        "      samples_wrote += buffer\n",
        "      splits.append(block)\n",
        "  return splits"
      ]
    },
    {
      "cell_type": "code",
      "execution_count": 9,
      "metadata": {
        "id": "Y8IGPeE722z_",
        "colab": {
          "base_uri": "https://localhost:8080/"
        },
        "outputId": "2ca6e763-ef66-4d58-90da-d49bac2efff0"
      },
      "outputs": [
        {
          "output_type": "stream",
          "name": "stderr",
          "text": [
            "<ipython-input-9-d6965ef10353>:10: VisibleDeprecationWarning: Creating an ndarray from ragged nested sequences (which is a list-or-tuple of lists-or-tuples-or ndarrays with different lengths or shapes) is deprecated. If you meant to do this, you must specify 'dtype=object' when creating the ndarray.\n",
            "  waves_3sec = np.array(waves_3sec)\n"
          ]
        }
      ],
      "source": [
        "waves_3sec = []\n",
        "labels_3sec = []\n",
        "for wave, label in zip(waves, labels):\n",
        "  splits = []\n",
        "  splits = Split(wave)\n",
        "  for split in splits:\n",
        "    waves_3sec.append(split)\n",
        "    labels_3sec.append(label)\n",
        "\n",
        "waves_3sec = np.array(waves_3sec)\n",
        "labels_3sec = np.array(labels_3sec)"
      ]
    },
    {
      "cell_type": "code",
      "execution_count": 10,
      "metadata": {
        "id": "YM1B8uqyLJFs",
        "colab": {
          "base_uri": "https://localhost:8080/"
        },
        "outputId": "06ae3df7-a14e-4870-825b-f18afd515831"
      },
      "outputs": [
        {
          "output_type": "execute_result",
          "data": {
            "text/plain": [
              "(10979,)"
            ]
          },
          "metadata": {},
          "execution_count": 10
        }
      ],
      "source": [
        "labels_3sec.shape"
      ]
    },
    {
      "cell_type": "code",
      "execution_count": 11,
      "metadata": {
        "id": "xa7LIGw1LU7Y",
        "colab": {
          "base_uri": "https://localhost:8080/"
        },
        "outputId": "b4cf0076-4680-4146-e397-da50012a25dc"
      },
      "outputs": [
        {
          "output_type": "execute_result",
          "data": {
            "text/plain": [
              "(10979,)"
            ]
          },
          "metadata": {},
          "execution_count": 11
        }
      ],
      "source": [
        "waves_3sec.shape"
      ]
    },
    {
      "cell_type": "code",
      "execution_count": 12,
      "metadata": {
        "id": "Q3ywZIUqLX1J",
        "colab": {
          "base_uri": "https://localhost:8080/"
        },
        "outputId": "c7856d4d-8b09-4d2c-ee4d-cc587fca2def"
      },
      "outputs": [
        {
          "output_type": "execute_result",
          "data": {
            "text/plain": [
              "(48000,)"
            ]
          },
          "metadata": {},
          "execution_count": 12
        }
      ],
      "source": [
        "waves_3sec[0].shape"
      ]
    },
    {
      "cell_type": "markdown",
      "metadata": {
        "id": "A4fWfs5PLq7t"
      },
      "source": [
        "### get rid of those of different shapes"
      ]
    },
    {
      "cell_type": "code",
      "execution_count": 13,
      "metadata": {
        "id": "scgY03A7Lxtr",
        "colab": {
          "base_uri": "https://localhost:8080/"
        },
        "outputId": "fd632b34-c171-4f92-bb7d-b686b5baa044"
      },
      "outputs": [
        {
          "output_type": "stream",
          "name": "stdout",
          "text": [
            "998\n"
          ]
        }
      ],
      "source": [
        "# first count how many of them have different shapes\n",
        "count = 0\n",
        "for wave in waves_3sec:\n",
        "  if wave.shape[0] != 48000:\n",
        "    count+=1\n",
        "print(count)\n",
        "# only 1/10 of them are of other shapes, we can safely remove them without worrying about the balance of dataset"
      ]
    },
    {
      "cell_type": "code",
      "execution_count": 14,
      "metadata": {
        "id": "f_3nubCcM0zY"
      },
      "outputs": [],
      "source": [
        "waves_3sec_clear = []\n",
        "labels_3sec_clear = []\n",
        "\n",
        "for wave,label in zip(waves_3sec, labels_3sec):\n",
        "  if wave.shape[0] == 48000:\n",
        "    waves_3sec_clear.append(wave)\n",
        "    labels_3sec_clear.append(label)\n",
        "    \n",
        "waves_3sec_clear = np.array(waves_3sec_clear)\n",
        "labels_3sec_clear = np.array(labels_3sec_clear)"
      ]
    },
    {
      "cell_type": "code",
      "execution_count": 15,
      "metadata": {
        "id": "-HMETHIqNW1i",
        "colab": {
          "base_uri": "https://localhost:8080/"
        },
        "outputId": "4752dc4a-0923-4eec-cfc5-31f8b8ce1487"
      },
      "outputs": [
        {
          "output_type": "execute_result",
          "data": {
            "text/plain": [
              "(9981, 48000)"
            ]
          },
          "metadata": {},
          "execution_count": 15
        }
      ],
      "source": [
        "waves_3sec_clear.shape"
      ]
    },
    {
      "cell_type": "code",
      "execution_count": 16,
      "metadata": {
        "id": "MGKDveegNiYT",
        "colab": {
          "base_uri": "https://localhost:8080/"
        },
        "outputId": "19cd64fd-3602-43f2-8b4a-d096fe235a1c"
      },
      "outputs": [
        {
          "output_type": "execute_result",
          "data": {
            "text/plain": [
              "(9981,)"
            ]
          },
          "metadata": {},
          "execution_count": 16
        }
      ],
      "source": [
        "labels_3sec_clear.shape"
      ]
    },
    {
      "cell_type": "code",
      "execution_count": 17,
      "metadata": {
        "id": "WJPSe2oSRQh1",
        "colab": {
          "base_uri": "https://localhost:8080/"
        },
        "outputId": "c139559c-294d-4fc1-82d0-c365e815b339"
      },
      "outputs": [
        {
          "output_type": "execute_result",
          "data": {
            "text/plain": [
              "array(['blues', 'blues', 'blues', ..., 'metal', 'metal', 'metal'],\n",
              "      dtype='<U9')"
            ]
          },
          "metadata": {},
          "execution_count": 17
        }
      ],
      "source": [
        "labels_3sec_clear"
      ]
    },
    {
      "cell_type": "code",
      "execution_count": 18,
      "metadata": {
        "id": "UZgZnLyPCAqQ"
      },
      "outputs": [],
      "source": [
        "waves_raw = waves_3sec_clear\n",
        "labels_raw = labels_3sec_clear"
      ]
    },
    {
      "cell_type": "markdown",
      "metadata": {
        "id": "ZEkTCTFIBBLB"
      },
      "source": [
        "### One note, when taking the a portion to do the hypertuning, shuffle the dataset."
      ]
    },
    {
      "cell_type": "markdown",
      "metadata": {
        "id": "1vkNL_37BxmO"
      },
      "source": [
        "# YAMNet connected to a MLP end"
      ]
    },
    {
      "cell_type": "code",
      "execution_count": 19,
      "metadata": {
        "id": "OD_9AXvemYLK"
      },
      "outputs": [],
      "source": [
        "# load the pretrained model\n",
        "yamnet_model = hub.load('https://tfhub.dev/google/yamnet/1')"
      ]
    },
    {
      "cell_type": "code",
      "execution_count": 20,
      "metadata": {
        "id": "EVhkQ9XGmBOY"
      },
      "outputs": [],
      "source": [
        "# make inference to extract yamnet features\n",
        "yamnet_features = []\n",
        "for wave in waves_raw:\n",
        "  _,embeddings,_ = yamnet_model(wave)\n",
        "  yamnet_features.append(embeddings)"
      ]
    },
    {
      "cell_type": "code",
      "execution_count": 21,
      "metadata": {
        "id": "KEPp3m9FmnYo"
      },
      "outputs": [],
      "source": [
        "yamnet_features = np.array(yamnet_features)"
      ]
    },
    {
      "cell_type": "code",
      "execution_count": 22,
      "metadata": {
        "id": "IFzbq2uumfUq",
        "colab": {
          "base_uri": "https://localhost:8080/"
        },
        "outputId": "40d12016-cdc0-4a94-fb92-b2805ada9971"
      },
      "outputs": [
        {
          "output_type": "execute_result",
          "data": {
            "text/plain": [
              "(9981, 6, 1024)"
            ]
          },
          "metadata": {},
          "execution_count": 22
        }
      ],
      "source": [
        "yamnet_features.shape"
      ]
    },
    {
      "cell_type": "code",
      "execution_count": 23,
      "metadata": {
        "id": "Wl0kvMYEGnKo"
      },
      "outputs": [],
      "source": [
        "# since some of the data are of shape (63,1024) and some of that are (62,1024). I must truncate them all into (62,1024)\n",
        "yamnet_features_fixed = []\n",
        "# fix the inconsistant data\n",
        "for row in yamnet_features:\n",
        "  yamnet_features_fixed.append(row[:62])\n",
        "yamnet_features_fixed = np.array(yamnet_features_fixed)"
      ]
    },
    {
      "cell_type": "code",
      "execution_count": 24,
      "metadata": {
        "id": "B9GyUhwBzCua"
      },
      "outputs": [],
      "source": [
        "# summarize the feature by taking mean and std\n",
        "yam_summary_fea = []\n",
        "for row in yamnet_features:\n",
        "  feature = []\n",
        "  feature.extend(np.mean(row, axis=0))\n",
        "  feature.extend(np.std(row, axis=0))\n",
        "  yam_summary_fea.append(feature)\n",
        "yam_summary_fea = np.array(yam_summary_fea)"
      ]
    },
    {
      "cell_type": "code",
      "execution_count": 25,
      "metadata": {
        "id": "MjAWiSZwzJ7r",
        "colab": {
          "base_uri": "https://localhost:8080/"
        },
        "outputId": "1aacb9f7-e6b2-4e7f-db02-1bfba267c40c"
      },
      "outputs": [
        {
          "output_type": "execute_result",
          "data": {
            "text/plain": [
              "(9981, 2048)"
            ]
          },
          "metadata": {},
          "execution_count": 25
        }
      ],
      "source": [
        "yam_summary_fea.shape"
      ]
    },
    {
      "cell_type": "code",
      "execution_count": 26,
      "metadata": {
        "id": "5HK7CjzzSoMJ",
        "colab": {
          "base_uri": "https://localhost:8080/"
        },
        "outputId": "68291d5d-b96e-45e7-8968-c9021781f86c"
      },
      "outputs": [
        {
          "output_type": "execute_result",
          "data": {
            "text/plain": [
              "(9981, 10)"
            ]
          },
          "metadata": {},
          "execution_count": 26
        }
      ],
      "source": [
        "# encode the labels for large dataset\n",
        "labelDf_large = pd.DataFrame({\"label\":labels_3sec_clear})\n",
        "labelDf_large['label'].value_counts()\n",
        "label_dict_large = {}\n",
        "code = 0\n",
        "for _label in labelDf_large['label'].value_counts().index:\n",
        "  label_dict_large[_label] = code\n",
        "  code += 1\n",
        "\n",
        "labels_large_encoded = []\n",
        "labels_large = labelDf_large.values\n",
        "for _l in labels_large:\n",
        "  labels_large_encoded.append(label_dict_large[_l[0]])\n",
        "labels_large_encoded = np.array(labels_large_encoded)\n",
        "\n",
        "labels_large_encoded_ct = to_categorical(labels_large_encoded)\n",
        "labels_large_encoded_ct.shape"
      ]
    },
    {
      "cell_type": "code",
      "execution_count": 27,
      "metadata": {
        "id": "6P4716kWJTMm",
        "colab": {
          "base_uri": "https://localhost:8080/"
        },
        "outputId": "4abe423f-c836-4c46-a277-4f34382f1675"
      },
      "outputs": [
        {
          "output_type": "stream",
          "name": "stdout",
          "text": [
            "Search space summary\n",
            "Default search space size: 6\n",
            "activation (Choice)\n",
            "{'default': 'relu', 'conditions': [], 'values': ['relu', 'tanh'], 'ordered': False}\n",
            "units_1 (Int)\n",
            "{'default': None, 'conditions': [], 'min_value': 256, 'max_value': 1024, 'step': 256, 'sampling': 'linear'}\n",
            "units_2 (Int)\n",
            "{'default': None, 'conditions': [], 'min_value': 128, 'max_value': 512, 'step': 128, 'sampling': 'linear'}\n",
            "units_3 (Int)\n",
            "{'default': None, 'conditions': [], 'min_value': 64, 'max_value': 256, 'step': 64, 'sampling': 'linear'}\n",
            "dropout (Boolean)\n",
            "{'default': False, 'conditions': []}\n",
            "learning_rate (Choice)\n",
            "{'default': 0.01, 'conditions': [], 'values': [0.01, 0.001], 'ordered': True}\n",
            "None\n"
          ]
        }
      ],
      "source": [
        "class YAMNetHyperModel(keras_tuner.HyperModel):\n",
        "    def build(self, hp):\n",
        "        model = keras.Sequential()\n",
        "        activatoin = hp.Choice(\"activation\", [\"relu\", \"tanh\"])\n",
        "\n",
        "        model.add(Dense(\n",
        "              units = hp.Int(\"units_1\", 256, 1024, step = 256),\n",
        "              activation = activatoin)\n",
        "        )\n",
        "        model.add(Dense(\n",
        "              units = hp.Int(\"units_2\", 128, 512, step = 128),\n",
        "              activation = activatoin)\n",
        "        )\n",
        "        model.add(Dense(\n",
        "              units = hp.Int(\"units_3\", 64, 256, step = 64),\n",
        "              activation = activatoin)\n",
        "        )\n",
        "\n",
        "        if hp.Boolean(\"dropout\"):\n",
        "            model.add(Dropout(0.25))\n",
        "\n",
        "        model.add(Dense(10, activation = \"softmax\"))  \n",
        "\n",
        "        # Define the optimizer learning rate as a hyperparameter.\n",
        "        learning_rate = hp.Choice('learning_rate', values=[1e-2, 1e-3])\n",
        "\n",
        "        # Compile the model.\n",
        "        model.compile(\n",
        "            loss=\"categorical_crossentropy\", metrics=[\"accuracy\"], optimizer = Adam(learning_rate=learning_rate),\n",
        "        )\n",
        "\n",
        "        return model\n",
        "\n",
        "    def fit(self, hp, model, X, y, **kwargs):\n",
        "\n",
        "        return model.fit(\n",
        "            X,\n",
        "            y,\n",
        "            validation_split=0.2,\n",
        "            batch_size = hp.Int(\"batch_size\", 4, 64,step = 8),\n",
        "            **kwargs,\n",
        "        )   \n",
        "        \n",
        "tuner_yamnet = keras_tuner.RandomSearch(\n",
        "    YAMNetHyperModel(),\n",
        "    objective=\"val_accuracy\",\n",
        "    # overwrite=True,\n",
        "    executions_per_trial=1,\n",
        "    max_trials=20,\n",
        "    directory=\"yamnet_tuner\",\n",
        "    project_name='yamnet'\n",
        ")\n",
        "\n",
        "print(tuner_yamnet.search_space_summary())"
      ]
    },
    {
      "cell_type": "code",
      "execution_count": 28,
      "metadata": {
        "id": "vV6Um93ERErV"
      },
      "outputs": [],
      "source": [
        "X_yam_train,X_yam_test,y_yam_train,y_yam_test = train_test_split(yam_summary_fea,labels_large_encoded_ct,test_size=0.2,random_state=0)"
      ]
    },
    {
      "cell_type": "code",
      "execution_count": 29,
      "metadata": {
        "id": "YUc830dZKi4D",
        "colab": {
          "base_uri": "https://localhost:8080/"
        },
        "outputId": "4293cd8e-5f2c-47bc-a7e5-a5edf9b685ec"
      },
      "outputs": [
        {
          "output_type": "stream",
          "name": "stdout",
          "text": [
            "Trial 10 Complete [00h 00m 12s]\n",
            "val_accuracy: 0.651847243309021\n",
            "\n",
            "Best val_accuracy So Far: 0.8353162407875061\n",
            "Total elapsed time: 00h 04m 50s\n"
          ]
        }
      ],
      "source": [
        "# early_stop = EarlyStopping(monitor='val_loss', patience=3)\n",
        "\n",
        "# uncomment this\n",
        "tuner_yamnet.search(X_yam_train, y_yam_train,callbacks = [keras.callbacks.TensorBoard(\"yamnet_tuner\")], epochs = 5)"
      ]
    },
    {
      "cell_type": "code",
      "execution_count": 30,
      "metadata": {
        "id": "syaHDFxJJTMp"
      },
      "outputs": [],
      "source": [
        "# %load_ext tensorboard\n",
        "# %tensorboard --logdir mlp_tuner"
      ]
    },
    {
      "cell_type": "code",
      "execution_count": 31,
      "metadata": {
        "id": "0X6guM-5JTMq",
        "colab": {
          "base_uri": "https://localhost:8080/"
        },
        "outputId": "221c86e1-5884-4eba-8b3d-caeffd75960e"
      },
      "outputs": [
        {
          "output_type": "stream",
          "name": "stdout",
          "text": [
            "Epoch 1/15\n",
            "533/533 [==============================] - 4s 5ms/step - loss: 0.7880 - accuracy: 0.7387 - val_loss: 0.8908 - val_accuracy: 0.7564\n",
            "Epoch 2/15\n",
            "533/533 [==============================] - 4s 7ms/step - loss: 0.6155 - accuracy: 0.8024 - val_loss: 0.6399 - val_accuracy: 0.7840\n",
            "Epoch 3/15\n",
            "533/533 [==============================] - 2s 4ms/step - loss: 0.5060 - accuracy: 0.8286 - val_loss: 0.6931 - val_accuracy: 0.8059\n",
            "Epoch 4/15\n",
            "533/533 [==============================] - 2s 4ms/step - loss: 0.4455 - accuracy: 0.8511 - val_loss: 0.5656 - val_accuracy: 0.8291\n",
            "Epoch 5/15\n",
            "533/533 [==============================] - 2s 4ms/step - loss: 0.3905 - accuracy: 0.8621 - val_loss: 0.5268 - val_accuracy: 0.8291\n",
            "Epoch 6/15\n",
            "533/533 [==============================] - 2s 4ms/step - loss: 0.3518 - accuracy: 0.8837 - val_loss: 0.5730 - val_accuracy: 0.8272\n",
            "Epoch 7/15\n",
            "533/533 [==============================] - 3s 6ms/step - loss: 0.2813 - accuracy: 0.9047 - val_loss: 0.5311 - val_accuracy: 0.8491\n",
            "Epoch 8/15\n",
            "533/533 [==============================] - 3s 5ms/step - loss: 0.2417 - accuracy: 0.9176 - val_loss: 0.5934 - val_accuracy: 0.8472\n"
          ]
        },
        {
          "output_type": "execute_result",
          "data": {
            "text/plain": [
              "<keras.callbacks.History at 0x7fb12ff1e2c0>"
            ]
          },
          "metadata": {},
          "execution_count": 31
        }
      ],
      "source": [
        "yamnet_hp_model = YAMNetHyperModel()\n",
        "best_yamnet_hp = tuner_yamnet.get_best_hyperparameters()[0]\n",
        "best_yamnet_model = yamnet_hp_model.build(best_yamnet_hp)\n",
        "\n",
        "early_stop = EarlyStopping(monitor='val_loss', patience=3)\n",
        "yamnet_hp_model.fit(best_yamnet_hp, best_yamnet_model, X_yam_train, y_yam_train, verbose=1, epochs = 15, callbacks=[early_stop])"
      ]
    },
    {
      "cell_type": "code",
      "source": [
        "best_yamnet_model.save_weights('best_yamnet_model.h5')"
      ],
      "metadata": {
        "id": "VjlXsQpic4Nj"
      },
      "execution_count": 32,
      "outputs": []
    },
    {
      "cell_type": "code",
      "execution_count": 33,
      "metadata": {
        "id": "TTsTZlM7CVne",
        "colab": {
          "base_uri": "https://localhost:8080/"
        },
        "outputId": "ca2ef800-05a8-4068-b4e3-30aa2849e8a1"
      },
      "outputs": [
        {
          "output_type": "stream",
          "name": "stdout",
          "text": [
            "0.844266414642334\n"
          ]
        }
      ],
      "source": [
        "# Accuracy on the test set\n",
        "test_accuracy_yamnet = best_yamnet_model.evaluate(X_yam_test,y_yam_test,verbose=0)\n",
        "print(test_accuracy_yamnet[1])"
      ]
    },
    {
      "cell_type": "code",
      "execution_count": 34,
      "metadata": {
        "id": "53IVHMbeyN9O",
        "colab": {
          "base_uri": "https://localhost:8080/"
        },
        "outputId": "d93be30f-898c-4f19-c18d-c297d643a105"
      },
      "outputs": [
        {
          "output_type": "execute_result",
          "data": {
            "text/plain": [
              "{'activation': 'relu',\n",
              " 'units_1': 512,\n",
              " 'units_2': 256,\n",
              " 'units_3': 192,\n",
              " 'dropout': False,\n",
              " 'learning_rate': 0.001,\n",
              " 'batch_size': 12}"
            ]
          },
          "metadata": {},
          "execution_count": 34
        }
      ],
      "source": [
        "best_yamnet_hp.values"
      ]
    },
    {
      "cell_type": "markdown",
      "metadata": {
        "id": "Qr0-0TpTyH0t"
      },
      "source": [
        "# YAMNet Summary\n",
        "Best accuracy, *84.9%*, at epochs of 10, on the hyper parameters of\n",
        "```python\n",
        "{\n",
        " 'activation': 'relu', 'units_1': 1024, 'units_2': 512,\n",
        " 'units_3': 128, 'dropout': True, 'learning_rate': 0.001,\n",
        " 'batch_size': 52, 'epochs' : 5\n",
        " }\n",
        "```"
      ]
    }
  ],
  "metadata": {
    "colab": {
      "provenance": [],
      "gpuType": "V100"
    },
    "gpuClass": "standard",
    "kernelspec": {
      "display_name": "Python 3",
      "name": "python3"
    },
    "language_info": {
      "name": "python"
    },
    "accelerator": "GPU"
  },
  "nbformat": 4,
  "nbformat_minor": 0
}